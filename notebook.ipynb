{
 "cells": [
  {
   "cell_type": "code",
   "execution_count": 1,
   "metadata": {},
   "outputs": [],
   "source": [
    "%%capture\n",
    "%pip install -r requirements.txt"
   ]
  },
  {
   "cell_type": "code",
   "execution_count": 12,
   "metadata": {},
   "outputs": [],
   "source": [
    "import os\n",
    "import openai\n",
    "from string import Template\n",
    "import json\n",
    "from neo4j import GraphDatabase\n",
    "import glob\n",
    "from timeit import default_timer as timer\n",
    "from dotenv import load_dotenv\n",
    "from time import sleep\n",
    "import fitz"
   ]
  },
  {
   "cell_type": "markdown",
   "metadata": {},
   "source": [
    "#### Text Preprocessing Action"
   ]
  },
  {
   "cell_type": "code",
   "execution_count": null,
   "metadata": {},
   "outputs": [],
   "source": [
    "# Function to convert any PDF to a txt file (same folder, same name)\n",
    "def convert_pdf_to_text(pdf_folder, pdf_name):\n",
    "    txt_filename = pdf_name.replace(\".pdf\", \".txt\")\n",
    "\n",
    "    pdf_path = os.path.join(pdf_folder, pdf_name)\n",
    "    txt_path = os.path.join(pdf_folder, txt_filename)\n",
    "\n",
    "    doc = fitz.open(pdf_path)\n",
    "    text = \"\\n\".join([page.get_text(\"text\") for page in doc])\n",
    "\n",
    "    with open(txt_path, \"w\", encoding=\"utf-8\") as f:\n",
    "        f.write(text)\n",
    "    \n",
    "    print(f\"Text extracted and saved to {txt_path}\")"
   ]
  },
  {
   "cell_type": "code",
   "execution_count": 15,
   "metadata": {},
   "outputs": [
    {
     "name": "stdout",
     "output_type": "stream",
     "text": [
      "Text extracted and saved to /Users/beatweichsler/Documents/temp/chemicalgraph_v1/data/apple_regulation/Apple_Regulated_Substances_Specification.txt\n"
     ]
    }
   ],
   "source": [
    "# Convert Apple Legislation\n",
    "pdf_folder = \"/Users/beatweichsler/Documents/temp/chemicalgraph_v1/data/apple_regulation\"\n",
    "pdf_name = \"Apple_Regulated_Substances_Specification.pdf\"\n",
    "convert_pdf_to_text(pdf_folder, pdf_name)"
   ]
  },
  {
   "cell_type": "markdown",
   "metadata": {},
   "source": [
    "#### OpenAI action"
   ]
  },
  {
   "cell_type": "code",
   "execution_count": null,
   "metadata": {},
   "outputs": [],
   "source": [
    "load_dotenv() \n",
    "client = openai.OpenAI(api_key=os.getenv(\"OPENAI_API_KEY\"))"
   ]
  },
  {
   "cell_type": "code",
   "execution_count": null,
   "metadata": {},
   "outputs": [],
   "source": [
    "# Function to call the OpenAI API\n",
    "def process_gpt(file_prompt, system_msg):\n",
    "    completion = client.chat.completions.create(\n",
    "        model=\"gpt-3.5-turbo\",\n",
    "        messages=[\n",
    "            {\"role\": \"system\", \"content\": system_msg},\n",
    "            {\"role\": \"user\", \"content\": file_prompt},\n",
    "        ],\n",
    "        response_format={\"type\": \"json_object\"},\n",
    "    )\n",
    "    return completion.choices[0].message.content\n",
    "\n",
    "# Function to take one file and a prompt template, and return a json_object of all the CAS numbers\n",
    "def extract_cas_numbers(file, prompt_template):\n",
    "    system_msg = \"You are a helpful AI assistant who extracts CAS numbers from documents.\"\n",
    "    try:\n",
    "        with open(file, \"r\") as f:\n",
    "            text = f.read().rstrip()\n",
    "            prompt = Template(prompt_template).substitute(ctext=text)\n",
    "            result = process_gpt(prompt, system_msg=system_msg)\n",
    "            #json_output = {\n",
    "            #    \"regulation\": {\n",
    "            #        \"name\": regulation_name,\n",
    "            #        \"chemicals\": json.loads(result),\n",
    "            #    }\n",
    "            #}\n",
    "            #return json.loads(result)\n",
    "            # Save to a JSON file\n",
    "            #with open(f'{regulation_name}output.json', 'w') as json_file:\n",
    "            #    json.dump(json_output, json_file, indent=4)\n",
    "            return result\n",
    "    except Exception as e:\n",
    "        print(f\"Error processing {file}: {e}\")\n",
    "\n",
    "# function to create a json file containing the regulation name and the extracted cas numbers\n",
    "def create_json(file, regulation_name, prompt_template):\n",
    "    cas_data = json.loads(extract_cas_numbers(file, prompt_template))\n",
    "    json_output = {\n",
    "        \"regulation\": {\n",
    "            \"name\": regulation_name,\n",
    "            **cas_data\n",
    "        }\n",
    "    }\n",
    "\n",
    "    with open('output.json', 'w') as json_file:\n",
    "        json.dump(json_output, json_file, indent=4)\n",
    "    return json_output"
   ]
  },
  {
   "cell_type": "code",
   "execution_count": 74,
   "metadata": {},
   "outputs": [],
   "source": [
    "regulation_prompt = \"\"\"\n",
    "Extract all chemical substances and their CAS numbers from the text below. Follow these strict rules:\n",
    "\n",
    "### **Rules for Extraction:**\n",
    "0. **ALWAYS FINISH THE OUTPUT.** Never send partial responses or cut off the JSON structure.\n",
    "1. **Extract ONLY exact matches from the provided text.** \n",
    "2. \"\"Do NOT infer missing CAS numbers or chemical names.**\n",
    "3. **If a chemical name has multiple CAS numbers, or a CAS number is associated with multiple chemical names, create separate entries for every valid combination.**\n",
    "4. **Each extracted entry must contain three fields:** \n",
    "   - `\"name\"`: Chemical name (as written in the document).  \n",
    "   - `\"cas\"`: CAS number (exact match from the text).  \n",
    "   - `\"ec\"`: Leave as an empty string `\"\"` (EC numbers are not provided).\n",
    "5. **STRICTLY follow the JSON format.** Do NOT merge or group entries. Each unique (name, CAS) combination must be a separate object.\n",
    "\n",
    "---\n",
    "\n",
    "### **Beginning of Output Format Example:**\n",
    "\n",
    "[\n",
    "    {\"name\": \"Arsenic\", \"cas\": \"7440-38-2\", \"ec\": \"231-148-6\"},\n",
    "    {\"name\": \"Nickel\", \"cas\": \"7440-02-0\", \"ec\": \"231-111-4\"}\n",
    "]\n",
    "\n",
    "### **End of Output Format Example:**\n",
    "\n",
    "Text to process:\n",
    "$ctext\n",
    "\"\"\""
   ]
  },
  {
   "cell_type": "code",
   "execution_count": 75,
   "metadata": {},
   "outputs": [
    {
     "name": "stdout",
     "output_type": "stream",
     "text": [
      "{'regulation': {'name': 'Apple Regulated Substances Specification 069-0135-M', 'chemicals': [{'name': 'Antimony', 'cas': '1309-64-4', 'ec': ''}, {'name': 'Arsenic compounds', 'cas': '7440-38-2', 'ec': ''}, {'name': 'Asbestos', 'cas': '1332-21-4', 'ec': ''}, {'name': 'Asbestos', 'cas': '12001-28-4', 'ec': ''}, {'name': 'Asbestos', 'cas': '12001-29-5', 'ec': ''}, {'name': 'Asbestos', 'cas': '12172-73-5', 'ec': ''}, {'name': 'Asbestos', 'cas': '77536-66-4', 'ec': ''}, {'name': 'Asbestos', 'cas': '77536-67-5', 'ec': ''}, {'name': 'Asbestos', 'cas': '77536-68-6', 'ec': ''}, {'name': 'Asbestos', 'cas': '132207-32-0', 'ec': ''}, {'name': 'Benzene', 'cas': '71-43-2', 'ec': ''}, {'name': 'Beryllium compounds', 'cas': '7440-41-7', 'ec': ''}, {'name': 'Bisphenol A (BPA)', 'cas': '80-05-7', 'ec': ''}, {'name': 'Bromine', 'cas': '7726-95-6', 'ec': ''}, {'name': 'Cadmium compounds', 'cas': '7440-43-9', 'ec': ''}, {'name': 'Chlorine', 'cas': '7782-50-5', 'ec': ''}, {'name': 'Dimethylfumarate (DMFu)', 'cas': '624-49-7', 'ec': ''}, {'name': 'Formaldehyde', 'cas': '50-00-0', 'ec': ''}, {'name': 'Halogenated Diphenyl Methanes', 'cas': '76253-60-6', 'ec': ''}, {'name': 'Halogenated Diphenyl Methanes', 'cas': '81161-70-8', 'ec': ''}, {'name': 'Halogenated Diphenyl Methanes', 'cas': '99688-47-8', 'ec': ''}]}}\n"
     ]
    }
   ],
   "source": [
    "file = \"/Users/beatweichsler/Documents/temp/chemicalgraph_v1/data/apple_regulation/apple_regulation_subset.txt\"\n",
    "regulation_name = \"Apple Regulated Substances Specification 069-0135-M\"\n",
    "#file = \"/Users/beatweichsler/Documents/temp/chemicalgraph_v1/data/apple_regulation/Apple_Regulated_Substances_Specification.txt\"\n",
    "result = create_json(file, regulation_name, regulation_prompt)\n",
    "print(result)"
   ]
  },
  {
   "cell_type": "markdown",
   "metadata": {},
   "source": [
    "#### NEO4J Action"
   ]
  },
  {
   "cell_type": "code",
   "execution_count": 79,
   "metadata": {},
   "outputs": [],
   "source": [
    "class Neo4jChemicalGraph:\n",
    "    def __init__(self, uri, user, password):\n",
    "        self.driver = GraphDatabase.driver(uri, auth=(user, password))\n",
    "\n",
    "    def close(self):\n",
    "        self.driver.close()\n",
    "\n",
    "    def create_regulation(self, name):\n",
    "        \"\"\"Create a regulation node.\"\"\"\n",
    "        query = \"\"\"\n",
    "        MERGE (r:Regulation {name: $name})\n",
    "        RETURN r\n",
    "        \"\"\"\n",
    "        with self.driver.session() as session:\n",
    "            session.run(query, name=name)\n",
    "\n",
    "    def create_chemical(self, name, cas=None, ec=None):\n",
    "        \"\"\"Create a Chemical node if CAS is provided, otherwise just create a ChemicalName node.\"\"\"\n",
    "        if cas:\n",
    "            query = \"\"\"\n",
    "            MERGE (c:Chemical {CAS: $cas})\n",
    "            ON CREATE SET c.EC = $ec\n",
    "            MERGE (cn:ChemicalName {name: $name})\n",
    "            MERGE (cn)-[:BELONGS_TO]->(c)\n",
    "            RETURN c, cn\n",
    "            \"\"\"\n",
    "            with self.driver.session() as session:\n",
    "                session.run(query, name=name, cas=cas, ec=ec)\n",
    "        else:\n",
    "            # Only create ChemicalName if CAS is missing\n",
    "            query = \"\"\"\n",
    "            MERGE (cn:ChemicalName {name: $name})\n",
    "            RETURN cn\n",
    "            \"\"\"\n",
    "            with self.driver.session() as session:\n",
    "                session.run(query, name=name)\n",
    "\n",
    "    def link_regulation_to_chemical(self, reg_name, cas):\n",
    "        \"\"\"Link a regulation to an existing chemical.\"\"\"\n",
    "        query = \"\"\"\n",
    "        MATCH (c:Chemical {CAS: $cas}), (r:Regulation {name: $reg_name})\n",
    "        MERGE (c)-[:REGULATED_BY]->(r)\n",
    "        \"\"\"\n",
    "        with self.driver.session() as session:\n",
    "            session.run(query, cas=cas, reg_name=reg_name)\n",
    "\n",
    "    def link_regulation_to_chemical_name(self, reg_name, chem_name):\n",
    "        \"\"\"Link a regulation to an existing chemical name.\"\"\"\n",
    "        query = \"\"\"\n",
    "        MATCH (cn:ChemicalName {name: $chem_name}), (r:Regulation {name: $reg_name})\n",
    "        MERGE (cn)-[:REGULATED_BY]->(r)\n",
    "        \"\"\"\n",
    "        with self.driver.session() as session:\n",
    "            session.run(query, chem_name=chem_name, reg_name=reg_name)\n",
    "\n",
    "    def import_json(self, json_data):\n",
    "        \"\"\"Import JSON into Neo4j while handling cases with missing CAS/EC numbers.\"\"\"\n",
    "        regulation_name = json_data[\"regulation\"][\"name\"]\n",
    "        self.create_regulation(regulation_name)\n",
    "\n",
    "        for chemical in json_data[\"regulation\"][\"chemicals\"]:\n",
    "            chem_name = chemical[\"name\"]\n",
    "            cas = chemical.get(\"cas\")  # CAS might be missing\n",
    "            ec = chemical.get(\"ec\")   # EC might be missing\n",
    "\n",
    "            # Create chemical and chemical name if they do not exist\n",
    "            self.create_chemical(chem_name, cas, ec)\n",
    "            \n",
    "            # Link regulation to existing chemical (if CAS is provided) or chemical name (in case only name is provided)\n",
    "            if cas:\n",
    "                self.link_regulation_to_chemical(regulation_name, cas)\n",
    "            self.link_regulation_to_chemical_name(regulation_name, chem_name)"
   ]
  },
  {
   "cell_type": "code",
   "execution_count": 81,
   "metadata": {},
   "outputs": [],
   "source": [
    "# NEO4J AURA configuration\n",
    "NEO4J_URI = os.getenv(\"NEO4J_URI\")\n",
    "NEO4J_USER = os.getenv(\"NEO4J_USER\")\n",
    "NEO4J_PASSWORD = os.getenv(\"NEO4J_PASSWORD\")\n",
    "\n",
    "# # Verify Connectivity to NEO4J\n",
    "# with GraphDatabase.driver(NEO4J_URI, auth=(NEO4J_USER, NEO4J_PASSWORD)) as driver:\n",
    "#     driver.verify_connectivity()\n",
    "\n",
    "# # Set Up Database\n",
    "# db = GraphDatabase.driver(NEO4J_URI, auth=(NEO4J_USER, NEO4J_PASSWORD))\n",
    "\n",
    "db = Neo4jChemicalGraph(NEO4J_URI, NEO4J_USER, NEO4J_PASSWORD)"
   ]
  },
  {
   "cell_type": "markdown",
   "metadata": {},
   "source": [
    "#### Helper Functions"
   ]
  },
  {
   "cell_type": "code",
   "execution_count": 83,
   "metadata": {},
   "outputs": [],
   "source": [
    "with open('output.json', 'r') as json_file:\n",
    "    json_data = json.load(json_file)\n",
    "\n",
    "db.import_json(json_data)"
   ]
  }
 ],
 "metadata": {
  "kernelspec": {
   "display_name": "chemical",
   "language": "python",
   "name": "python3"
  },
  "language_info": {
   "codemirror_mode": {
    "name": "ipython",
    "version": 3
   },
   "file_extension": ".py",
   "mimetype": "text/x-python",
   "name": "python",
   "nbconvert_exporter": "python",
   "pygments_lexer": "ipython3",
   "version": "3.11.11"
  }
 },
 "nbformat": 4,
 "nbformat_minor": 2
}
