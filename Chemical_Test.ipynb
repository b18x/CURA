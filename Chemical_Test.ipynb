{
 "cells": [
  {
   "cell_type": "code",
   "execution_count": 22,
   "metadata": {},
   "outputs": [],
   "source": [
    "from neo4j import GraphDatabase"
   ]
  },
  {
   "cell_type": "code",
   "execution_count": 37,
   "metadata": {},
   "outputs": [],
   "source": [
    "class Neo4jChemicalGraph:\n",
    "    def __init__(self, uri, user, password):\n",
    "        self.driver = GraphDatabase.driver(uri, auth=(user, password))\n",
    "\n",
    "    def close(self):\n",
    "        self.driver.close()\n",
    "\n",
    "    def create_regulation(self, name):\n",
    "        \"\"\"Create a regulation node.\"\"\"\n",
    "        query = \"\"\"\n",
    "        MERGE (r:Regulation {name: $name})\n",
    "        RETURN r\n",
    "        \"\"\"\n",
    "        with self.driver.session() as session:\n",
    "            session.run(query, name=name)\n",
    "\n",
    "    def create_chemical(self, name, cas=None, ec=None):\n",
    "        \"\"\"Create a Chemical node if CAS is provided, otherwise just create a ChemicalName node.\"\"\"\n",
    "        if cas:\n",
    "            query = \"\"\"\n",
    "            MERGE (c:Chemical {CAS: $cas})\n",
    "            ON CREATE SET c.EC = $ec\n",
    "            MERGE (cn:ChemicalName {name: $name})\n",
    "            MERGE (cn)-[:BELONGS_TO]->(c)\n",
    "            RETURN c, cn\n",
    "            \"\"\"\n",
    "            with self.driver.session() as session:\n",
    "                session.run(query, name=name, cas=cas, ec=ec)\n",
    "        else:\n",
    "            # Only create ChemicalName if CAS is missing\n",
    "            query = \"\"\"\n",
    "            MERGE (cn:ChemicalName {name: $name})\n",
    "            RETURN cn\n",
    "            \"\"\"\n",
    "            with self.driver.session() as session:\n",
    "                session.run(query, name=name)\n",
    "\n",
    "    def link_regulation_to_chemical(self, reg_name, cas):\n",
    "        \"\"\"Link a regulation to an existing chemical.\"\"\"\n",
    "        query = \"\"\"\n",
    "        MATCH (c:Chemical {CAS: $cas}), (r:Regulation {name: $reg_name})\n",
    "        MERGE (c)-[:REGULATED_BY]->(r)\n",
    "        \"\"\"\n",
    "        with self.driver.session() as session:\n",
    "            session.run(query, cas=cas, reg_name=reg_name)\n",
    "\n",
    "    def link_regulation_to_chemical_name(self, reg_name, chem_name):\n",
    "        \"\"\"Link a regulation to an existing chemical name.\"\"\"\n",
    "        query = \"\"\"\n",
    "        MATCH (cn:ChemicalName {name: $chem_name}), (r:Regulation {name: $reg_name})\n",
    "        MERGE (cn)-[:REGULATED_BY]->(r)\n",
    "        \"\"\"\n",
    "        with self.driver.session() as session:\n",
    "            session.run(query, chem_name=chem_name, reg_name=reg_name)\n",
    "\n",
    "    def import_json(self, json_data):\n",
    "        \"\"\"Import JSON into Neo4j while handling cases with missing CAS/EC numbers.\"\"\"\n",
    "        regulation_name = json_data[\"regulation\"][\"name\"]\n",
    "        self.create_regulation(regulation_name)\n",
    "\n",
    "        for chemical in json_data[\"regulation\"][\"chemicals\"]:\n",
    "            chem_name = chemical[\"name\"]\n",
    "            cas = chemical.get(\"cas\")  # CAS might be missing\n",
    "            ec = chemical.get(\"ec\")   # EC might be missing\n",
    "\n",
    "            # Create chemical and chemical name if they do not exist\n",
    "            self.create_chemical(chem_name, cas, ec)\n",
    "            \n",
    "            # Link regulation to existing chemical (if CAS is provided) or chemical name (in case only name is provided)\n",
    "            if cas:\n",
    "                self.link_regulation_to_chemical(regulation_name, cas)\n",
    "            self.link_regulation_to_chemical_name(regulation_name, chem_name)"
   ]
  },
  {
   "cell_type": "code",
   "execution_count": 38,
   "metadata": {},
   "outputs": [],
   "source": [
    "# Set up connection\n",
    "neo4j_uri = \"bolt://localhost:7687\"  # Change this to your Neo4j instance\n",
    "neo4j_user = \"neo4j\"\n",
    "neo4j_password = \"password\"\n",
    "\n",
    "db = Neo4jChemicalGraph(neo4j_uri, neo4j_user, neo4j_password)\n",
    "\n",
    "\n"
   ]
  },
  {
   "cell_type": "code",
   "execution_count": 39,
   "metadata": {},
   "outputs": [],
   "source": [
    "# Load JSON\n",
    "json_data = {\n",
    "    \"regulation\": {\n",
    "        \"name\": \"Apple Regulated Substances Specification 069-0135-M\",\n",
    "        \"chemicals\": [\n",
    "            {\"name\": \"Arsenic\", \"cas\": \"7440-38-2\", \"ec\": \"231-148-6\"},\n",
    "            {\"name\": \"Benzene\", \"cas\": \"71-43-2\", \"ec\": \"200-753-7\"},\n",
    "            {\"name\": \"Beryllium\", \"cas\": \"7440-41-7\", \"ec\": \"231-150-7\"},\n",
    "            {\"name\": \"Bisphenol A (ΒΡΑ)\", \"cas\": \"80-05-7\", \"ec\": \"201-245-8\"},\n",
    "            {\"name\": \"Bromine\", \"cas\": \"7726-95-6\", \"ec\": \"231-778-1\"},\n",
    "            {\"name\": \"Cadmium\", \"cas\": \"7440-43-9\", \"ec\": \"231-152-8\"},\n",
    "            {\"name\": \"Chlorine\", \"cas\": \"7782-50-5\", \"ec\": \"231-959-5\"},\n",
    "            {\"name\": \"Dimethylfumarate (DMFu)\", \"cas\": \"624-49-7\", \"ec\": \"210-849-0\"},\n",
    "            {\"name\": \"Formaldehyde\", \"cas\": \"50-00-0\", \"ec\": \"200-001-8\"},\n",
    "            {\"name\": \"Lead\", \"cas\": \"7439-92-1\", \"ec\": \"231-100-4\"},\n",
    "            {\"name\": \"Mercury\", \"cas\": \"7439-97-6\", \"ec\": \"231-106-7\"},\n",
    "            {\"name\": \"n-Hexane\", \"cas\": \"110-54-3\", \"ec\": \"203-777-6\"},\n",
    "            {\"name\": \"Nickel\", \"cas\": \"7440-02-0\", \"ec\": \"231-111-4\"}\n",
    "        ]\n",
    "    }\n",
    "}\n",
    "\n",
    "# Import JSON data into Neo4j\n",
    "db.import_json(json_data)"
   ]
  },
  {
   "cell_type": "code",
   "execution_count": 40,
   "metadata": {},
   "outputs": [],
   "source": [
    "Epa_Json = { \"regulation\" : { \"name\": \"40 CFR Part 423 (up to date as of 2/11/2025) Steam Electric Power Generating Point Source Category\", \"chemicals\": [ {\"name\": \"Acenaphthene\", \"cas\": \"\"}, {\"name\": \"Acrolein\", \"cas\": \"\"}, {\"name\": \"Acrylonitrile\", \"cas\": \"\"}, {\"name\": \"Benzene\", \"cas\": \"\"}, {\"name\": \"Benzidine\", \"cas\": \"\"}, {\"name\": \"Carbon tetrachloride (tetrachloromethane)\", \"cas\": \"\"}, {\"name\": \"Chlorobenzene\", \"cas\": \"\"}, {\"name\": \"1,2,4-Trichlorobenzene\", \"cas\": \"\"}, {\"name\": \"Hexachlorobenzene\", \"cas\": \"\"}, {\"name\": \"1,2-Dichloroethane\", \"cas\": \"\"}, {\"name\": \"1,1,1-Trichloroethane\", \"cas\": \"\"}, {\"name\": \"Hexachloroethane\", \"cas\": \"\"}, {\"name\": \"1,1-Dichloroethane\", \"cas\": \"\"}, {\"name\": \"1,1,2-Trichloroethane\", \"cas\": \"\"}, {\"name\": \"1,1,2,2-Tetrachloroethane\", \"cas\": \"\"}, {\"name\": \"Chloroethane\", \"cas\": \"\"}, {\"name\": \"Bis(2-chloroethyl) ether\", \"cas\": \"\"}, {\"name\": \"2-Chloroethyl vinyl ether (mixed)\", \"cas\": \"\"}, {\"name\": \"2-Chloronaphthalene\", \"cas\": \"\"}, {\"name\": \"2,4,6-Trichlorophenol\", \"cas\": \"\"}, {\"name\": \"Parachlorometa cresol\", \"cas\": \"\"}, {\"name\": \"Chloroform (trichloromethane)\", \"cas\": \"\"}, {\"name\": \"2-Chlorophenol\", \"cas\": \"\"}, {\"name\": \"1,2-Dichlorobenzene\", \"cas\": \"\"}, {\"name\": \"1,3-Dichlorobenzene\", \"cas\": \"\"}, {\"name\": \"1,4-Dichlorobenzene\", \"cas\": \"\"}, {\"name\": \"3,3'-Dichlorobenzidine\", \"cas\": \"\"}, {\"name\": \"1,1-Dichloroethylene\", \"cas\": \"\"}, {\"name\": \"1,2-Trans-Dichloroethylene\", \"cas\": \"\"}, {\"name\": \"2,4-Dichlorophenol\", \"cas\": \"\"}, {\"name\": \"1,2-Dichloropropane\", \"cas\": \"\"}, {\"name\": \"1,2-Dichloropropylene (1,3-Dichloropropene)\", \"cas\": \"\"}, {\"name\": \"2,4-Dimethylphenol\", \"cas\": \"\"}, {\"name\": \"2,4-Dinitrotoluene\", \"cas\": \"\"}, {\"name\": \"2,6-Dinitrotoluene\", \"cas\": \"\"}, {\"name\": \"1,2-Diphenylhydrazine\", \"cas\": \"\"}, {\"name\": \"Ethylbenzene\", \"cas\": \"\"}, {\"name\": \"Fluoranthene\", \"cas\": \"\"}, {\"name\": \"4-Chlorophenyl phenyl ether\", \"cas\": \"\"}, {\"name\": \"4-Bromophenyl phenyl ether\", \"cas\": \"\"}, {\"name\": \"Bis(2-chloroisopropyl) ether\", \"cas\": \"\"}, {\"name\": \"Bis(2-chloroethoxy) methane\", \"cas\": \"\"}, {\"name\": \"Methylene chloride (dichloromethane)\", \"cas\": \"\"}, {\"name\": \"Methyl chloride (dichloromethane)\", \"cas\": \"\"}, {\"name\": \"Methyl bromide (bromomethane)\", \"cas\": \"\"}, {\"name\": \"Bromoform (tribromomethane)\", \"cas\": \"\"}, {\"name\": \"Dichlorobromomethane\", \"cas\": \"\"}, {\"name\": \"Chlorodibromomethane\", \"cas\": \"\"}, {\"name\": \"Hexachlorobutadiene\", \"cas\": \"\"}, {\"name\": \"Hexachlorocyclopentadiene\", \"cas\": \"\"}, {\"name\": \"Isophorone\", \"cas\": \"\"}, {\"name\": \"Naphthalene\", \"cas\": \"\"}, {\"name\": \"Nitrobenzene\", \"cas\": \"\"}, {\"name\": \"2-Nitrophenol\", \"cas\": \"\"}, {\"name\": \"4-Nitrophenol\", \"cas\": \"\"}, {\"name\": \"2,4-Dinitrophenol\", \"cas\": \"\"}, {\"name\": \"4,6-Dinitro-o-cresol\", \"cas\": \"\"}, {\"name\": \"N-Nitrosodimethylamine\", \"cas\": \"\"}, {\"name\": \"N-Nitrosodiphenylamine\", \"cas\": \"\"}, {\"name\": \"N-Nitrosodi-n-propylamine\", \"cas\": \"\"}, {\"name\": \"Pentachlorophenol\", \"cas\": \"\"}, {\"name\": \"Phenol\", \"cas\": \"\"}, {\"name\": \"Bis(2-ethylhexyl) phthalate\", \"cas\": \"\"}, {\"name\": \"Butyl benzyl phthalate\", \"cas\": \"\"}, {\"name\": \"Di-n-butyl phthalate\", \"cas\": \"\"}, {\"name\": \"Di-n-octyl phthalate\", \"cas\": \"\"}, {\"name\": \"Diethyl phthalate\", \"cas\": \"\"}, {\"name\": \"Dimethyl phthalate\", \"cas\": \"\"}, {\"name\": \"2,3,7,8-Tetrachlorodibenzo-p-dioxin (TCDD)\", \"cas\": \"\"}, {\"name\": \"Antimony\", \"cas\": \"\"}, {\"name\": \"Arsenic\", \"cas\": \"\"}, {\"name\": \"Barium\", \"cas\": \"\"}, {\"name\": \"Beryllium\", \"cas\": \"\"}, {\"name\": \"Cadmium\", \"cas\": \"\"}, {\"name\": \"Chromium\", \"cas\": \"\"}, {\"name\": \"Cobalt\", \"cas\": \"\"}, {\"name\": \"Copper\", \"cas\": \"\"}, {\"name\": \"Lead\", \"cas\": \"\"}, {\"name\": \"Magnesium\", \"cas\": \"\"}, {\"name\": \"Manganese\", \"cas\": \"\"}, {\"name\": \"Mercury\", \"cas\": \"\"}, {\"name\": \"Molybdenum\", \"cas\": \"\"}, {\"name\": \"Nickel\", \"cas\": \"\"}, {\"name\": \"Selenium\", \"cas\": \"\"}, {\"name\": \"Silver\", \"cas\": \"\"}, {\"name\": \"Thallium\", \"cas\": \"\"}, {\"name\": \"Titanium\", \"cas\": \"\"}, {\"name\": \"Vanadium\", \"cas\": \"\"}, {\"name\": \"Zinc\", \"cas\": \"\"} ] } }"
   ]
  },
  {
   "cell_type": "code",
   "execution_count": 31,
   "metadata": {},
   "outputs": [],
   "source": [
    "db = Neo4jChemicalGraph(neo4j_uri, neo4j_user, neo4j_password)"
   ]
  },
  {
   "cell_type": "code",
   "execution_count": 41,
   "metadata": {},
   "outputs": [],
   "source": [
    "db.import_json(Epa_Json)\n",
    "db.close()"
   ]
  },
  {
   "cell_type": "code",
   "execution_count": null,
   "metadata": {},
   "outputs": [],
   "source": []
  }
 ],
 "metadata": {
  "kernelspec": {
   "display_name": "chemicals",
   "language": "python",
   "name": "python3"
  },
  "language_info": {
   "codemirror_mode": {
    "name": "ipython",
    "version": 3
   },
   "file_extension": ".py",
   "mimetype": "text/x-python",
   "name": "python",
   "nbconvert_exporter": "python",
   "pygments_lexer": "ipython3",
   "version": "3.11.11"
  }
 },
 "nbformat": 4,
 "nbformat_minor": 2
}
